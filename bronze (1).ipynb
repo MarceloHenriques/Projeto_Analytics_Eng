{
 "cells": [
  {
   "cell_type": "code",
   "execution_count": 0,
   "metadata": {
    "application/vnd.databricks.v1+cell": {
     "cellMetadata": {
      "byteLimit": 2048000,
      "rowLimit": 10000
     },
     "inputWidgets": {},
     "nuid": "2efdc765-fbd4-477c-aac9-703150b6217f",
     "showTitle": false,
     "tableResultSettingsMap": {},
     "title": ""
    }
   },
   "outputs": [],
   "source": [
    "# Carregar e salvar os arquivos CSV na camada Bronze em formato Parquet\n",
    "\n",
    "# 1. Carregar o arquivo listing.csv\n",
    "df_listing_bronze = spark.read.option(\"multiline\", True).option(\"escape\", '\"').csv(\"dbfs:/FileStore/tables/listings.csv\", header=True)\n",
    "df_listing_bronze.write.format(\"parquet\").mode(\"overwrite\").save(\"/mnt/bronze/listing\")\n",
    "\n",
    "# 2. Carregar o arquivo reviews.csv\n",
    "df_reviews_bronze = spark.read.option(\"multiline\", True).option(\"escape\", '\"').csv(\"dbfs:/FileStore/tables/reviews.csv\", header=True)\n",
    "df_reviews_bronze.write.format(\"parquet\").mode(\"overwrite\").save(\"/mnt/bronze/reviews\")\n",
    "\n",
    "# 3. Carregar o arquivo calendar.csv\n",
    "df_calendar_bronze = spark.read.option(\"multline\", True).option(\"escape\", '\"').csv(\"dbfs:/FileStore/tables/calendar.csv\", header=True)\n",
    "df_calendar_bronze.write.format(\"parquet\").mode(\"overwrite\").save(\"/mnt/bronze/calendar\")\n"
   ]
  },
  {
   "cell_type": "code",
   "execution_count": 0,
   "metadata": {
    "application/vnd.databricks.v1+cell": {
     "cellMetadata": {
      "byteLimit": 2048000,
      "rowLimit": 10000
     },
     "inputWidgets": {},
     "nuid": "f6eba366-ddd9-48b0-bd1f-873701c9296b",
     "showTitle": false,
     "tableResultSettingsMap": {},
     "title": ""
    }
   },
   "outputs": [
    {
     "output_type": "execute_result",
     "data": {
      "text/plain": [
       "[FileInfo(path='dbfs:/mnt/bronze/calendar/', name='calendar/', size=0, modificationTime=0),\n",
       " FileInfo(path='dbfs:/mnt/bronze/listing/', name='listing/', size=0, modificationTime=0),\n",
       " FileInfo(path='dbfs:/mnt/bronze/reviews/', name='reviews/', size=0, modificationTime=0)]"
      ]
     },
     "execution_count": 3,
     "metadata": {},
     "output_type": "execute_result"
    }
   ],
   "source": [
    "# Listar arquivos no diretório de camada Bronze para confirmação\n",
    "dbutils.fs.ls(\"/mnt/bronze/\")\n"
   ]
  }
 ],
 "metadata": {
  "application/vnd.databricks.v1+notebook": {
   "dashboards": [],
   "environmentMetadata": null,
   "language": "python",
   "notebookMetadata": {
    "pythonIndentUnit": 4
   },
   "notebookName": "bronze",
   "widgets": {}
  }
 },
 "nbformat": 4,
 "nbformat_minor": 0
}
